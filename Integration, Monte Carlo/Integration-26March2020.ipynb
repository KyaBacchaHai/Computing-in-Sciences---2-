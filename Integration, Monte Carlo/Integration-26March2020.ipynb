{
 "cells": [
  {
   "cell_type": "markdown",
   "metadata": {},
   "source": [
    "****\n",
    "<a id='lesson-3'></a>\n",
    "# Lesson-3:  Integration\n",
    "****\n",
    "\n",
    "Computing integrals (numerically) is an important task in many computational fields. In this tutorial we will explore two schemes: \n",
    "- finite difference schemes / grid schemes\n",
    "- Monte Carlo scheme\n",
    "\n",
    "Scipy has 'integrate' function: learn its usage to compuate the 'exact' value of the integral\n",
    "\n",
    "\n",
    "## Grid schemes\n",
    "Typically used for 1-D or 2-D integrals, by evaluating the value of the function on a regular grid and then using approximation schemes like 'trapezoidal rule'\n",
    "\n",
    "## Task-1\n",
    "Following are the sub-tasks\n",
    "- Write a function that takes as input a *function* and interval, and returns the value of the integral. Assume the fuction to be one-dimensional function\n",
    "- Using the above function, find the area of a unit circle\n",
    "\n",
    "\n",
    "\n",
    "## Task-2\n",
    " Exploratory task: Adaptive grid size. When the function changes 'too fast', then next grid point is 'closer' (and change is 'too slow', then next grid point is 'farther'). Using thisi adaptive scheme compute the area of unit circle.\n",
    "\n",
    "\n",
    "\n",
    "## Monte Carlo methods\n",
    "Monte Carlo methods are typically used when we have very large dimensional integrals.\n",
    "\n",
    "## Task-3: Compute the area of the quarter unit circle (1st quadrant)  using <span style='color:red'> simple </span> Monte Carlo method\n",
    "\n",
    "\n",
    "## Task-4 \n",
    "Simple Monte Carlo is almost never used; here is the 'theory' for a more proper usage...\n",
    "\n",
    "Let us consider an integral:\n",
    "$$ I = \\int_a^b f(x)~dx$$\n",
    "where $x\\in \\mathcal{R}^N$. Such multi-dimensional integrals occur in physics, chemistry, all branches of engineering, and one standard technique is to use Monte Carlo sampling. Below is a rather short presenation of connection between sampling and such integrals\n",
    "\n",
    "### Multi-dimensional integrals using Monte Carlo sampling\n",
    "\n",
    "$$I = \\int_a^b dx~f(x) = \\int_a^b dx~\\rho(x) \\left( \\frac{f(x)}{\\rho(x)}\\right) =\\int_a^b \\rho(x)~g(x)~dx $$\n",
    "with the restriction that $\\rho(x)\\ne0\\forall x\\in[a,b]$, and $g(x)={f(x)}/{\\rho(x)}$.  \n",
    "\n",
    "When the fuction $\\rho(x)$ statisfies the following conditions:\n",
    "1. $\\rho(x) \\ge 0~\\forall~x\\in[a,b]$\n",
    "2. $\\int_a^b dx~\\rho(x) = 1$\n",
    "\n",
    "such a function can be considered a probability density function. \n",
    "\n",
    "When $\\rho(x)$ is a probability density function, \n",
    "$$ I = \\int_a^b \\rho(x)~g(x)~dx = \\mathbb{E} g(x)= \\text{average value of } g(x) \\text{ with } x \\text{ sampled with probability density }\\rho(x)$$\n",
    "The power of the Monte Carlo method comes from the flexibility in the choice of $\\rho(x)$. If $\\rho(x)$ is so chosen that it is also large when $|f(x)|$ is large and $\\rho(x)$ is small when $|f(x)|$ is small, the efficiency of computing the integral is great. In a proper statistics course, this is demostrated by showing that the variance of computation decreases; this will not be attempted here. The 'Monte Carlo' in the name comes from the fact that random sampling of $x$ with probability density $\\rho(x)$; gambling in casinos rely heavily on random numbers.\n",
    "\n",
    "### Task 4.1: Compute area of circle with $\\rho(x)=\\text{constant}$\n",
    "\n",
    "\n",
    "\n",
    "### Task 4.2: Compute the area of the circle with $\\rho(x)$ being the Gaussian distribution (i.e. normal distribution)\n",
    "\n",
    "\n",
    "\n",
    "## Task-5 One simple measure of efficiency of computation\n",
    "\n",
    "What is possible is to check that the efficiency of computation: how 'fast' is the computation? Smaller is the number of function evaluations used, greater is the efficiency. Alternatively, for the same number of function evaluations, lower error would mean greater efficiency.\n",
    "\n",
    "Compute the graph of $N$ vs $error(N)$ where $N$ is the number of function computations, under various schemes listed below:\n",
    "1. Naive Monte Carlo\n",
    "2. Importance Sampling with uniform  distrituion\n",
    "3. Importance Sampling with Gaussian districutuion\n",
    "\n"
   ]
  },
  {
   "cell_type": "code",
   "execution_count": null,
   "metadata": {},
   "outputs": [],
   "source": []
  },
  {
   "cell_type": "code",
   "execution_count": null,
   "metadata": {},
   "outputs": [],
   "source": []
  },
  {
   "cell_type": "code",
   "execution_count": null,
   "metadata": {},
   "outputs": [],
   "source": []
  },
  {
   "cell_type": "markdown",
   "metadata": {},
   "source": [
    "# Grid Based scheme (Task-1)\n",
    "\n",
    " We will plot the area of the unit semi-circle (i.e. unit circle with $y>0$). We know that the exact area of the unit semi-circle is $\\pi/2$. So to show the assymptotic convergence with respect to the number of intervals ($N$), we will plot $I(N) / (\\pi/2)$, which will assymptotically tend to $1$ as $N\\rightarrow\\infty$"
   ]
  },
  {
   "cell_type": "code",
   "execution_count": 3,
   "metadata": {
    "scrolled": true
   },
   "outputs": [
    {
     "name": "stdout",
     "output_type": "stream",
     "text": [
      "Populating the interactive namespace from numpy and matplotlib\n"
     ]
    }
   ],
   "source": [
    "%pylab inline"
   ]
  },
  {
   "cell_type": "code",
   "execution_count": 2,
   "metadata": {},
   "outputs": [],
   "source": [
    "\n",
    "def ReimannIntegral(func,a,b,numInterval):\n",
    "    '''Calculate the area under the curve func, between a and b'''\n",
    "    h = (b-a)/numInterval\n",
    "    xv = linspace(a,b,numInterval+1)\n",
    "    fv = func(xv)\n",
    "    area = h* np.sum ( fv[:-1]) # LEFT REIMANN SUM\n",
    "    #area = h* np.sum( fv[1:])  # RIGHT REIMANN SUM\n",
    "    return area"
   ]
  },
  {
   "cell_type": "code",
   "execution_count": 3,
   "metadata": {},
   "outputs": [],
   "source": [
    "def circle_top(x):\n",
    "    return sqrt(1-x*x)"
   ]
  },
  {
   "cell_type": "code",
   "execution_count": 4,
   "metadata": {},
   "outputs": [],
   "source": [
    "iv = []\n",
    "av = []\n",
    "for i in arange(10,101,10):\n",
    "    iv.append(i)\n",
    "    av.append( ReimannIntegral(circle_top,-1,1,i)*2/pi )"
   ]
  },
  {
   "cell_type": "code",
   "execution_count": 5,
   "metadata": {},
   "outputs": [
    {
     "name": "stderr",
     "output_type": "stream",
     "text": [
      "No handles with labels found to put in legend.\n"
     ]
    },
    {
     "data": {
      "text/plain": [
       "<matplotlib.legend.Legend at 0x7fa69d481eb8>"
      ]
     },
     "execution_count": 5,
     "metadata": {},
     "output_type": "execute_result"
    },
    {
     "data": {
      "image/png": "[encoded data removed]",
      "text/plain": [
       "<matplotlib.figure.Figure at 0x7fa69f525080>"
      ]
     },
     "metadata": {
      "needs_background": "light"
     },
     "output_type": "display_data"
    }
   ],
   "source": [
    "plot(iv,av,'o-')\n",
    "#xlim([60,100]) ;ylim([0.995,1])\n",
    "\n",
    "#plot(iv,array(av)-1,'o-',label='Error')\n",
    "\n",
    "title('Left Reimann Sum for unit semi-circle')\n",
    "xlabel('N (number of intervals)')\n",
    "ylabel('I(N)/ [pi/2]')\n",
    "grid()\n",
    "legend()"
   ]
  },
  {
   "cell_type": "code",
   "execution_count": null,
   "metadata": {},
   "outputs": [],
   "source": []
  },
  {
   "cell_type": "code",
   "execution_count": null,
   "metadata": {},
   "outputs": [],
   "source": []
  },
  {
   "cell_type": "markdown",
   "metadata": {},
   "source": [
    "# Adaptive grid method (Task-2)"
   ]
  },
  {
   "cell_type": "markdown",
   "metadata": {},
   "source": [
    "## Homework\n",
    "Generic idea is the following: \n",
    "1. $x_0 = a$ and set $i=0$\n",
    "2. for $ x_i < b$, do the following:\n",
    "     1. $h_i = ?$ ; choose $h_i$ inversely proportional to absolute value of the derivative, $|f^\\prime(x_i)|$ \n",
    "     2. $x_{i+1} = x_{i} + h_i$\n",
    "     3. compute the contribution of this interval to integral\n",
    "     3. check $x_{i+1} < b$, if yes end of the interval reached; else increase $i$"
   ]
  },
  {
   "cell_type": "code",
   "execution_count": 15,
   "metadata": {},
   "outputs": [
    {
     "name": "stdout",
     "output_type": "stream",
     "text": [
      "nan\n"
     ]
    },
    {
     "name": "stderr",
     "output_type": "stream",
     "text": [
      "/home/rishabh_/.local/lib/python3.6/site-packages/ipykernel_launcher.py:7: RuntimeWarning: invalid value encountered in double_scalars\n",
      "  import sys\n"
     ]
    }
   ],
   "source": [
    "def func(x):\n",
    "    return sqrt(1-x*x)\n",
    "\n",
    "a, b = -1, 1\n",
    "I, x, x_prev = 0, a, a\n",
    "while x<b:\n",
    "    h = 1/( abs(func(x)-func(x_prev)/(x-x_prev)) )\n",
    "    if h > 0.000001:\n",
    "        x_prev = x\n",
    "        x += h\n",
    "        I += func(x)*h\n",
    "    else :\n",
    "        \n",
    "print(I)"
   ]
  },
  {
   "cell_type": "markdown",
   "metadata": {},
   "source": [
    "# Task-3  \n",
    "Area of quarter circle using naive Monte Carlo\n"
   ]
  },
  {
   "cell_type": "markdown",
   "metadata": {},
   "source": [
    "Consider a unit square. Generate $N$ random points _inside_ this square. Consider the quarter circle (or any other shape) that is completely inside the square. We can estimate the are of the quarter circle by using the probilistic argument that the ratio of areas of quarter circle and square equals the fraction of points that lie inside the quarter circle. That is:\n",
    "$$ \\frac{A_c}{A_s} = \\lim_{N_s \\rightarrow\\infty}\\frac{N_c}{N_s}\n",
    "$$\n",
    "where subsrcipt $c$ and $s$ are used to denote properties of quarter-circle and square respectively; and $A$ stands for area and $N$ stands for number of points \n",
    "\n"
   ]
  },
  {
   "cell_type": "code",
   "execution_count": 6,
   "metadata": {},
   "outputs": [],
   "source": [
    "\n",
    "def Area_MonteCarlo(func,a,b,numPoints):\n",
    "    ''''''\n",
    "    a1= array([b-a,1])\n",
    "    a2=array([a,0])\n",
    "    inStatistc = 0\n",
    "    totStatistic =0\n",
    "    for i in range(numPoints):\n",
    "        # generate point in x in [a,b] and y in [0,1]\n",
    "        rv = np.random.random_sample((2,))*a1 + a2\n",
    "        # test if point is below the curve\n",
    "        inStatistc += func(rv,1.0) #radius = 1.0\n",
    "        totStatistic += 1\n",
    "        # store statistic\n",
    "        \n",
    "    # compile statistic to get\n",
    "    return (b-a)*inStatistc/totStatistic"
   ]
  },
  {
   "cell_type": "code",
   "execution_count": 7,
   "metadata": {},
   "outputs": [],
   "source": [
    "def inCircle(rv,radius):\n",
    "    '''returns 1 if point is inside circle of given radius centered about origin '''\n",
    "    return (norm(rv)<radius)*1.0"
   ]
  },
  {
   "cell_type": "code",
   "execution_count": 8,
   "metadata": {},
   "outputs": [],
   "source": [
    "iv = []\n",
    "av = []\n",
    "numAttempts=1\n",
    "for i in arange(10,301,10):\n",
    "    iv.append( i ) \n",
    "    sumi=0\n",
    "    for j in range(numAttempts): \n",
    "        sumi+= Area_MonteCarlo(inCircle,-1,1,i)\n",
    "    sumi /= numAttempts\n",
    "    av.append( sumi/(0.5*pi) )"
   ]
  },
  {
   "cell_type": "code",
   "execution_count": 9,
   "metadata": {},
   "outputs": [
    {
     "data": {
      "image/png": "[encoded data removed]",
      "text/plain": [
       "<matplotlib.figure.Figure at 0x7fa69f5139b0>"
      ]
     },
     "metadata": {
      "needs_background": "light"
     },
     "output_type": "display_data"
    }
   ],
   "source": [
    "plot(iv,av)\n",
    "grid()"
   ]
  },
  {
   "cell_type": "code",
   "execution_count": null,
   "metadata": {},
   "outputs": [],
   "source": []
  },
  {
   "cell_type": "code",
   "execution_count": 10,
   "metadata": {},
   "outputs": [],
   "source": [
    "def MonteCarloIntegration(func,a,b,numPoints):\n",
    "    '''compute the area under the curve between a and b \n",
    "    with numPoints times evaluation of func'''\n",
    "    \n",
    "    I = 0.0\n",
    "    for i in range(numPoints):\n",
    "        x = np.random.uniform()*(b-a) + a\n",
    "        I += func(x)\n",
    "    \n",
    "    return I*(b-a)/numPoints"
   ]
  },
  {
   "cell_type": "code",
   "execution_count": 11,
   "metadata": {},
   "outputs": [],
   "source": [
    "def semicircle(x):\n",
    "    return sqrt(1-x*x)"
   ]
  },
  {
   "cell_type": "code",
   "execution_count": 12,
   "metadata": {},
   "outputs": [
    {
     "data": {
      "text/plain": [
       "0.8902636640806663"
      ]
     },
     "execution_count": 12,
     "metadata": {},
     "output_type": "execute_result"
    }
   ],
   "source": [
    "MonteCarloIntegration(semicircle,-1,1,20)/(pi/2)"
   ]
  },
  {
   "cell_type": "code",
   "execution_count": 13,
   "metadata": {},
   "outputs": [],
   "source": [
    "# Plot I(N) vs N"
   ]
  },
  {
   "cell_type": "code",
   "execution_count": null,
   "metadata": {},
   "outputs": [],
   "source": []
  },
  {
   "cell_type": "code",
   "execution_count": null,
   "metadata": {},
   "outputs": [],
   "source": []
  },
  {
   "cell_type": "code",
   "execution_count": null,
   "metadata": {},
   "outputs": [],
   "source": []
  }
 ],
 "metadata": {
  "kernelspec": {
   "display_name": "Python 3",
   "language": "python",
   "name": "python3"
  },
  "language_info": {
   "codemirror_mode": {
    "name": "ipython",
    "version": 3
   },
   "file_extension": ".py",
   "mimetype": "text/x-python",
   "name": "python",
   "nbconvert_exporter": "python",
   "pygments_lexer": "ipython3",
   "version": "3.6.9"
  }
 },
 "nbformat": 4,
 "nbformat_minor": 2
}
