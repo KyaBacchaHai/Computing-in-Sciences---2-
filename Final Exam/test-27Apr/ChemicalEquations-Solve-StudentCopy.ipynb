{
 "cells": [
  {
   "cell_type": "code",
   "execution_count": 13,
   "metadata": {},
   "outputs": [
    {
     "name": "stdout",
     "output_type": "stream",
     "text": [
      "Populating the interactive namespace from numpy and matplotlib\n"
     ]
    }
   ],
   "source": [
    "%pylab inline"
   ]
  },
  {
   "cell_type": "markdown",
   "metadata": {},
   "source": [
    "# Solve a given chemical equation"
   ]
  },
  {
   "cell_type": "markdown",
   "metadata": {},
   "source": [
    "## Task-1: Design a input scheme for the user to input a chemical equation that need to be balanced.\n",
    "\n"
   ]
  },
  {
   "cell_type": "code",
   "execution_count": 1,
   "metadata": {},
   "outputs": [],
   "source": [
    "import re"
   ]
  },
  {
   "cell_type": "code",
   "execution_count": 2,
   "metadata": {},
   "outputs": [],
   "source": [
    "string=\"H 2 + O 2 = H 2 O\""
   ]
  },
  {
   "cell_type": "code",
   "execution_count": 3,
   "metadata": {},
   "outputs": [
    {
     "name": "stdout",
     "output_type": "stream",
     "text": [
      "{'O', 'H'}\n"
     ]
    }
   ],
   "source": [
    "atomList = set(re.split('[ 0-9+=]+',string))\n",
    "print(atomList)"
   ]
  },
  {
   "cell_type": "code",
   "execution_count": 4,
   "metadata": {},
   "outputs": [
    {
     "name": "stdout",
     "output_type": "stream",
     "text": [
      "H 2 + O 2 \n",
      " H 2 O\n"
     ]
    }
   ],
   "source": [
    "#[reactants, products] = (string.split(sep=\"=\"))\n",
    "[reactants, products] = (re.split('=',string))\n",
    "print(reactants)\n",
    "print(products)"
   ]
  },
  {
   "cell_type": "code",
   "execution_count": 5,
   "metadata": {},
   "outputs": [
    {
     "name": "stdout",
     "output_type": "stream",
     "text": [
      "['H 2 ', ' O 2 ']     [' H 2 O']\n"
     ]
    }
   ],
   "source": [
    "react_list= reactants.split(sep=\"+\")\n",
    "prod_list = products.split(sep=\"+\")\n",
    "print(str(react_list),\"   \",str(prod_list))"
   ]
  },
  {
   "cell_type": "code",
   "execution_count": 6,
   "metadata": {},
   "outputs": [
    {
     "name": "stdout",
     "output_type": "stream",
     "text": [
      "['H', '2', 'O']\n"
     ]
    }
   ],
   "source": [
    "for chem in prod_list:\n",
    "    c=list(filter(None,(re.split(' ',chem))))\n",
    "    print(c)"
   ]
  },
  {
   "cell_type": "markdown",
   "metadata": {},
   "source": [
    "# TASK 1a: Write a function that will take one chemical (reactant or product) and return chemical_composition_vector\n",
    "\n",
    "Consider reaction ' H 2 + O 2 = H 2 O '\n",
    "- set atomList is {'O','H'}\n",
    "- For ' H 2 ', vector is [0, 2]\n",
    "- For ' O 2 ', vector is [2, 0]\n",
    "- For 'H 2 O', vector is [-1, -2] (minus sign because of H2O being product)"
   ]
  },
  {
   "cell_type": "code",
   "execution_count": 109,
   "metadata": {},
   "outputs": [],
   "source": [
    "def chemical_composition_vector( input ):\n",
    "    global atomList\n",
    "    out = [0]*len(atomList)\n",
    "    c=list(filter(None,(re.split(' ',input))))\n",
    "    print(c)\n",
    "    for i in range(len(c)):\n",
    "        if(c[i].isdigit() or c[i]==\" \" ):\n",
    "            continue\n",
    "        else:\n",
    "            j = 0\n",
    "            for z in atomList:\n",
    "                print(z)\n",
    "                if( z == c[i] ):\n",
    "                    print(j)\n",
    "                    break\n",
    "                else:\n",
    "                    j += 1\n",
    "            if c[j+2].isdigit():\n",
    "                out[j] = c[i+1]\n",
    "            else:\n",
    "                out[j] = 1\n",
    "        return out"
   ]
  },
  {
   "cell_type": "code",
   "execution_count": 110,
   "metadata": {},
   "outputs": [
    {
     "name": "stdout",
     "output_type": "stream",
     "text": [
      "{'O', 'H'}\n"
     ]
    }
   ],
   "source": [
    "print(atomList)"
   ]
  },
  {
   "cell_type": "code",
   "execution_count": 111,
   "metadata": {},
   "outputs": [
    {
     "name": "stdout",
     "output_type": "stream",
     "text": [
      "['H', '2']\n",
      "O\n",
      "H\n",
      "1\n"
     ]
    },
    {
     "ename": "IndexError",
     "evalue": "list index out of range",
     "output_type": "error",
     "traceback": [
      "\u001b[0;31m---------------------------------------------------------------------------\u001b[0m",
      "\u001b[0;31mIndexError\u001b[0m                                Traceback (most recent call last)",
      "\u001b[0;32m<ipython-input-111-82a2610437d6>\u001b[0m in \u001b[0;36m<module>\u001b[0;34m\u001b[0m\n\u001b[0;32m----> 1\u001b[0;31m \u001b[0mchemical_composition_vector\u001b[0m\u001b[0;34m(\u001b[0m\u001b[0;34m\"H 2\"\u001b[0m\u001b[0;34m)\u001b[0m\u001b[0;34m\u001b[0m\u001b[0;34m\u001b[0m\u001b[0m\n\u001b[0m",
      "\u001b[0;32m<ipython-input-109-4cb6db47db23>\u001b[0m in \u001b[0;36mchemical_composition_vector\u001b[0;34m(input)\u001b[0m\n\u001b[1;32m     16\u001b[0m                 \u001b[0;32melse\u001b[0m\u001b[0;34m:\u001b[0m\u001b[0;34m\u001b[0m\u001b[0;34m\u001b[0m\u001b[0m\n\u001b[1;32m     17\u001b[0m                     \u001b[0mj\u001b[0m \u001b[0;34m+=\u001b[0m \u001b[0;36m1\u001b[0m\u001b[0;34m\u001b[0m\u001b[0;34m\u001b[0m\u001b[0m\n\u001b[0;32m---> 18\u001b[0;31m             \u001b[0;32mif\u001b[0m \u001b[0mc\u001b[0m\u001b[0;34m[\u001b[0m\u001b[0mj\u001b[0m\u001b[0;34m+\u001b[0m\u001b[0;36m2\u001b[0m\u001b[0;34m]\u001b[0m\u001b[0;34m.\u001b[0m\u001b[0misdigit\u001b[0m\u001b[0;34m(\u001b[0m\u001b[0;34m)\u001b[0m\u001b[0;34m:\u001b[0m\u001b[0;34m\u001b[0m\u001b[0;34m\u001b[0m\u001b[0m\n\u001b[0m\u001b[1;32m     19\u001b[0m                 \u001b[0mout\u001b[0m\u001b[0;34m[\u001b[0m\u001b[0mj\u001b[0m\u001b[0;34m]\u001b[0m \u001b[0;34m=\u001b[0m \u001b[0mc\u001b[0m\u001b[0;34m[\u001b[0m\u001b[0mi\u001b[0m\u001b[0;34m+\u001b[0m\u001b[0;36m1\u001b[0m\u001b[0;34m]\u001b[0m\u001b[0;34m\u001b[0m\u001b[0;34m\u001b[0m\u001b[0m\n\u001b[1;32m     20\u001b[0m             \u001b[0;32melse\u001b[0m\u001b[0;34m:\u001b[0m\u001b[0;34m\u001b[0m\u001b[0;34m\u001b[0m\u001b[0m\n",
      "\u001b[0;31mIndexError\u001b[0m: list index out of range"
     ]
    }
   ],
   "source": [
    "chemical_composition_vector(\"H 2\")"
   ]
  },
  {
   "cell_type": "markdown",
   "metadata": {},
   "source": [
    "## Task-2: From the input, get into a form that is suitable for mathematical manipulations\n",
    "\n",
    "\n",
    "\n",
    "1. Lets say that you have atom types $A_1, A_2, \\cdots A_N$. \n",
    "2. Write each chemical component as a $N$ dimensional vector \n",
    "3. Suppose the balanced the chemical reaction is where $R_i$ are reactants and $P_i$ are products, and we require that $r_i$ and $p_i$ be integers... \n",
    "$$ r_1 R_1 + r_2 R_2 +\\cdots - (p_1 P_1 + p_1 P_2 ) = 0$$ \n",
    "3. Set up a system of $N$ simulatneous equations, and solve for it to get $r_i$ and $p_i$\n",
    "4. What are the conditions under which there is NO solution? "
   ]
  },
  {
   "cell_type": "code",
   "execution_count": null,
   "metadata": {},
   "outputs": [],
   "source": []
  },
  {
   "cell_type": "code",
   "execution_count": null,
   "metadata": {},
   "outputs": [],
   "source": []
  },
  {
   "cell_type": "code",
   "execution_count": null,
   "metadata": {},
   "outputs": [],
   "source": []
  },
  {
   "cell_type": "markdown",
   "metadata": {},
   "source": [
    "## Task-3: Using the solution above, output the balanced equation"
   ]
  },
  {
   "cell_type": "code",
   "execution_count": null,
   "metadata": {},
   "outputs": [],
   "source": []
  },
  {
   "cell_type": "code",
   "execution_count": null,
   "metadata": {},
   "outputs": [],
   "source": []
  },
  {
   "cell_type": "markdown",
   "metadata": {},
   "source": [
    "## Task-4: If the above is working, can you wrap the whole program in a single function, which will take the input and give the proper output?\n",
    "\n",
    "Given the string 'eqn', the output of the function that you will write, called BalanceChemicalEquation(eqn), will be the balanced chemical equation or a proper error"
   ]
  },
  {
   "cell_type": "code",
   "execution_count": 34,
   "metadata": {},
   "outputs": [
    {
     "data": {
      "text/plain": [
       "{'H', 'O'}"
      ]
     },
     "execution_count": 34,
     "metadata": {},
     "output_type": "execute_result"
    }
   ],
   "source": [
    "atomList\n"
   ]
  },
  {
   "cell_type": "code",
   "execution_count": 35,
   "metadata": {},
   "outputs": [
    {
     "data": {
      "text/plain": [
       "(array([], dtype=int64),)"
      ]
     },
     "execution_count": 35,
     "metadata": {},
     "output_type": "execute_result"
    }
   ],
   "source": [
    "np.where(atomList == 'H')"
   ]
  },
  {
   "cell_type": "code",
   "execution_count": null,
   "metadata": {},
   "outputs": [],
   "source": []
  }
 ],
 "metadata": {
  "kernelspec": {
   "display_name": "Python 3",
   "language": "python",
   "name": "python3"
  },
  "language_info": {
   "codemirror_mode": {
    "name": "ipython",
    "version": 3
   },
   "file_extension": ".py",
   "mimetype": "text/x-python",
   "name": "python",
   "nbconvert_exporter": "python",
   "pygments_lexer": "ipython3",
   "version": "3.6.9"
  }
 },
 "nbformat": 4,
 "nbformat_minor": 2
}
