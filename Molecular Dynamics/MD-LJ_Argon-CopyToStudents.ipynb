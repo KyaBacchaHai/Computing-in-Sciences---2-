{
 "cells": [
  {
   "cell_type": "code",
   "execution_count": 1,
   "metadata": {},
   "outputs": [
    {
     "name": "stdout",
     "output_type": "stream",
     "text": [
      "Populating the interactive namespace from numpy and matplotlib\n"
     ]
    }
   ],
   "source": [
    "%pylab inline"
   ]
  },
  {
   "cell_type": "markdown",
   "metadata": {},
   "source": [
    " ***\n",
    "<a id='lesson-4'></a>\n",
    "# Lesson-4: Molecular Dynamics\n",
    "***\n",
    "- Molecular Dynamics is essentially the application of the Newtons Second Law to molecules, where the force acting on each part of the molecule is computed by modelling its interaction with every other part of the system.\n",
    "- Total potential energy of the system: \n",
    "$$ U = \\sum_{i\\in\\{bonds\\}} \\frac{1}{2} k_{b,i} (d_i - d_{0,i})^2 + \\sum_{i\\in\\{angles\\}} \\frac{1}{2} k_{a,i} (\\theta_i - \\theta_{0,i})^2 + \\\\ \\sum_{i\\in\\{dihedrals\\}} \\phi ( cos(n\\theta_i)-1)  +  \\sum_{i,j\\in\\{non-bond~pairs\\}} \\left( U_{LJ}(i,j) +  U_{Columbic}(i,j)\\right)\n",
    "$$\n",
    "- Equations of motion given by:\n",
    "$$ \\frac{d\\vec{p}_i}{dt} = \\vec{F}_i \\\\ \\frac{d \\vec{r}_i}{dt} = \\vec{p}_i/m_i $$\n",
    "- Euler Method:\n",
    "$$ \\vec{p}_i(t+dt) = \\vec{p}_i(t) + dt~\\vec{F}_i(t) \\\\ \\vec{r}_i(t+dt)=\\vec{r}_i(t) + dt\\vec{p}_i/m_i\n",
    "$$\n",
    "where the atom index $i \\in [1,N]$\n",
    "- Check on accuracy: constant total energy, total linear momentum\n",
    "- Example: Simple harmonic oscillator\n",
    "\n",
    "## Example: Argon\n",
    "Argon atom is electrically neutral and a good model for the pair-wise interaction between two Argon atoms is given by Lennard-Jones potential, whose functional form is given by:\n",
    "$$ U_{LJ} (\\vec{r}_i,\\vec{r}_j) = 4 \\epsilon \\left( \\left(\\frac{\\sigma}{r} \\right)^{12}- \\left(\\frac{\\sigma}{r} \\right)^6 \\right)  $$\n",
    "where $\\vec{r} = \\vec{r}_i - \\vec{r}_j$ and $r=|\\vec{r}|$. The force on particle $i$ due to its interaction via LJ potenital with particle $j$ is then given by: $$-\\left( \\frac{\\partial U_{LJ}}{\\partial x_i}, \\frac{\\partial U_{LJ}}{\\partial y_i},\\frac{\\partial U_{LJ}}{\\partial z_i} \\right)$$\n",
    "And the total potential of the system of $N$ Argon atoms is sum of all the pairwise interactions, i.e.,\n",
    "$$ U = \\frac{1}{2} \\sum_{i,j=1, i\\ne j}^N U_{LJ} (\\vec{r}_i,\\vec{r}_j) $$\n",
    "Using the Euler method mentioned above, write a program to compute the trajectory of the system! "
   ]
  },
  {
   "cell_type": "markdown",
   "metadata": {},
   "source": [
    "Following functions might need to be written:\n",
    "\n",
    "- `initialise_config`\n",
    "- `initialise_momenta`\n",
    "- `compute_force`, `compute_pairwiseLJ(i, j, sigma, epsilon)`\n",
    "- `compute_totalEnergy`, `compute_energy_pairwiseLJ(i, j, sigma, epsilon)`\n",
    "- `euler_integrate(timestep)`\n",
    "\n"
   ]
  },
  {
   "cell_type": "code",
   "execution_count": 2,
   "metadata": {},
   "outputs": [],
   "source": [
    "# set some basic stuff of the simulation\n",
    "numParticles = 64\n",
    "dim = 2   # dimensionlaity of system, 2 for ease of visualisation\n",
    "kBT = 1.0 # temperature\n",
    "mass = 40 * 1.6 * (10**-27)  # mass of argon gas\n",
    "# mass = 40\n",
    "\n",
    "# set interaction parameters: sigma and epsilon \n",
    "sigma = 1.0 \n",
    "epsilon = 1.0\n",
    "\n",
    "# set integrator parameters\n",
    "dt = 0.01\n",
    "\n",
    "# setup arrays for storing stuff\n",
    "positons = numpy.zeros( (numParticles, dim) )\n",
    "momentas = numpy.zeros( (numParticles, dim) )\n",
    "forces   = numpy.zeros( (numParticles, dim) )"
   ]
  },
  {
   "cell_type": "code",
   "execution_count": 3,
   "metadata": {},
   "outputs": [],
   "source": [
    "# initialise_config\n",
    "def initialize_positions( boxLength_in ):\n",
    "    global positions, numParticles, dim, boxLength\n",
    "    boxLength = boxLength_in\n",
    "    # set positions: lattice start inside a box of length 'boxLength'\n",
    "    positions = np.random.uniform(0,boxLength,(numParticles,dim))\n",
    "    \n",
    "    return"
   ]
  },
  {
   "cell_type": "code",
   "execution_count": 4,
   "metadata": {},
   "outputs": [],
   "source": [
    "\n",
    "# initialization of momentas\n",
    "def initialize_momentas(temp):\n",
    "    global positions, momentas, forces, numParticles, dim, kBT, mass\n",
    "    # set momenta, as Maxwell-Boltzmann distribution at temperaute 'temp'\n",
    "    kBT = temp    \n",
    "    momentas = np.random.normal(0, sqrt(2*mass*1.38*(10**-23)*kBT), (numParticles,dim))\n",
    "\n",
    "    return"
   ]
  },
  {
   "cell_type": "code",
   "execution_count": 5,
   "metadata": {},
   "outputs": [],
   "source": [
    "# # funciton to compute forces on all particles in system\n",
    "# def calc_forces():\n",
    "#     global numParticles, sigma, epsilon, dim\n",
    "    \n",
    "#     forces   = numpy.zeros( (numParticles, dim) )\n",
    "#     for i in range(numParticles):\n",
    "#         for j in range(numParticles):\n",
    "#             forces[i] += compute_pairwiseLJ(i, j, sigma, epsilon)\n",
    "#        # j = linspace(1, numParticles, numParticles)\n",
    "#     # forces[i] += compute_pairwiseLJ(i, j, sigma, epsilon)\n",
    "            \n",
    "            \n",
    "            \n",
    "#     return\n",
    "\n",
    "# # function to compute pairwise forces\n",
    "# def compute_pairwiseLJ(i,j,sigma,epsilon):\n",
    "#     global positons\n",
    "#     if (i==j):\n",
    "#         return 0\n",
    "    \n",
    "#     r = np.linalg.norm(np.subtract(positions[i], positions[j]))\n",
    "#     Force = 24*( ((sigma/r)**12) - ((sigma/r)**6) )/(r*r)\n",
    "#     Force_vec = Force*np.subtract(positions[i],positions[j])[:]\n",
    "#     return Force_vec"
   ]
  },
  {
   "cell_type": "code",
   "execution_count": 6,
   "metadata": {},
   "outputs": [],
   "source": [
    "def calc_forces():\n",
    "    global positions, sigma, epsilon, forces\n",
    "    for idx, vec in enumerate(positions):\n",
    "        r = np.linalg.norm(vec - positions, axis = 1)\n",
    "        r = np.delete(r, idx)\n",
    "        position_temp = np.delete(vec - positions, idx, 0)\n",
    "        force_mag = 24*epsilon*( 2*((sigma/r)**12) - ((sigma/r)**6) )/(r*r)\n",
    "        forces[idx]= np.sum(position_temp*force_mag [:, None], axis = 0)\n",
    "    return "
   ]
  },
  {
   "cell_type": "code",
   "execution_count": 7,
   "metadata": {},
   "outputs": [],
   "source": [
    "# # function to compute total Energy of system\n",
    "# def compute_totalEnergy():\n",
    "#     global positions, momentas, mass, numParticles, sigma, epsilon\n",
    "#     # calculate kinetic energy from momenta\n",
    "#     KE = np.sum(momentas[:]*momentas[:])/mass\n",
    "#     # calculate potential energy  using calc_energy_pairwiseLJ(i,j,sigma,epsilon)\n",
    "#     PE = 0\n",
    "#     for i in range(numParticles):\n",
    "#         for j in range(numParticles):\n",
    "#             PE += calc_energy_pairwiseLJ(i, j, sigma, epsilon)\n",
    "\n",
    "#     return (KE+PE)\n",
    "\n",
    "# def calc_energy_pairwiseLJ(i,j,sigma,epsilon):\n",
    "#     global positions\n",
    "#     if i==j:\n",
    "#         return 0\n",
    "    \n",
    "#     r = np.linalg.norm(np.subtract(positions[i], positions[j]))\n",
    "#     Energy = 4*( ((sigma/r)**12) - ((sigma/r)**6) )\n",
    "#     return Energy"
   ]
  },
  {
   "cell_type": "code",
   "execution_count": 8,
   "metadata": {},
   "outputs": [],
   "source": [
    "def potential_curve():\n",
    "    global positions, sigma, epsilon, mass, momentas\n",
    "    Pot_Energy = 0\n",
    "    for idx, vec in enumerate(positions):\n",
    "        r = np.linalg.norm(vec-positions, axis = 1)\n",
    "        r = np.delete(r, idx)\n",
    "        Pot_Energy += 4*epsilon*( ((sigma/r)**12) - ((sigma/r)**6) )\n",
    "    Pot_Energy = np.sum(Pot_Energy)\n",
    "    \n",
    "    Kin_Ener = np.sum(einsum('ij,ij->i', momentas, momentas))/(2*mass)\n",
    "    \n",
    "    Energy = Pot_Energy + Kin_Ener\n",
    "    \n",
    "    return Pot_Energy, Kin_Ener, Energy"
   ]
  },
  {
   "cell_type": "code",
   "execution_count": 9,
   "metadata": {},
   "outputs": [],
   "source": [
    "# integrator\n",
    "def euler_integrate(dt):\n",
    "    global positions, momentas, forces, boxLength, mass\n",
    "    calc_forces()\n",
    "    positions += dt * (momentas / mass)\n",
    "    # positions = np.mod(positions, boxLength)\n",
    "    momentas += dt * forces\n",
    "    return"
   ]
  },
  {
   "cell_type": "code",
   "execution_count": 10,
   "metadata": {},
   "outputs": [],
   "source": [
    "def configDraw():\n",
    "    global positions\n",
    "    figure(figsize=(8,8)) # setup figure of 8 inches x 8 inches\n",
    "    axis = gca()         # get current axes\n",
    "    axis.set_xlim(0,(30))  # xlim (-15,15)\n",
    "    axis.set_ylim(0,(30))  # ylim (-15,15)\n",
    "    circles = []\n",
    "    for i in range(numParticles):\n",
    "        circles.append( axis.add_patch( Circle( positions[i], radius=0.5,\n",
    "                                                linewidth=2, edgecolor='black') ) )\n",
    "    grid()\n",
    "    show()\n",
    "    \n",
    "    return"
   ]
  },
  {
   "cell_type": "code",
   "execution_count": null,
   "metadata": {},
   "outputs": [],
   "source": []
  },
  {
   "cell_type": "code",
   "execution_count": null,
   "metadata": {},
   "outputs": [],
   "source": []
  },
  {
   "cell_type": "code",
   "execution_count": null,
   "metadata": {},
   "outputs": [],
   "source": []
  },
  {
   "cell_type": "code",
   "execution_count": null,
   "metadata": {},
   "outputs": [],
   "source": []
  },
  {
   "cell_type": "code",
   "execution_count": null,
   "metadata": {},
   "outputs": [],
   "source": []
  },
  {
   "cell_type": "code",
   "execution_count": 11,
   "metadata": {
    "scrolled": true
   },
   "outputs": [
    {
     "data": {
      "image/png": "[encoded data removed]",
      "text/plain": [
       "<matplotlib.figure.Figure at 0x7fd8915d85f8>"
      ]
     },
     "metadata": {
      "needs_background": "light"
     },
     "output_type": "display_data"
    },
    {
     "data": {
      "image/png": "[encoded data removed]",
      "text/plain": [
       "<matplotlib.figure.Figure at 0x7fd88f5a9518>"
      ]
     },
     "metadata": {
      "needs_background": "light"
     },
     "output_type": "display_data"
    },
    {
     "data": {
      "image/png": "[encoded data removed]",
      "text/plain": [
       "<matplotlib.figure.Figure at 0x7fd88f4c0f28>"
      ]
     },
     "metadata": {
      "needs_background": "light"
     },
     "output_type": "display_data"
    },
    {
     "data": {
      "image/png": "[encoded data removed]",
      "text/plain": [
       "<matplotlib.figure.Figure at 0x7fd88f34f748>"
      ]
     },
     "metadata": {
      "needs_background": "light"
     },
     "output_type": "display_data"
    },
    {
     "data": {
      "image/png": "[encoded data removed]",
      "text/plain": [
       "<matplotlib.figure.Figure at 0x7fd88f4a7eb8>"
      ]
     },
     "metadata": {
      "needs_background": "light"
     },
     "output_type": "display_data"
    },
    {
     "data": {
      "image/png": "[encoded data removed]",
      "text/plain": [
       "<matplotlib.figure.Figure at 0x7fd88f34f2e8>"
      ]
     },
     "metadata": {
      "needs_background": "light"
     },
     "output_type": "display_data"
    },
    {
     "data": {
      "image/png": "[encoded data removed]",
      "text/plain": [
       "<matplotlib.figure.Figure at 0x7fd88f25e160>"
      ]
     },
     "metadata": {
      "needs_background": "light"
     },
     "output_type": "display_data"
    },
    {
     "data": {
      "image/png": "[encoded data removed]",
      "text/plain": [
       "<matplotlib.figure.Figure at 0x7fd88f0b45f8>"
      ]
     },
     "metadata": {
      "needs_background": "light"
     },
     "output_type": "display_data"
    },
    {
     "data": {
      "image/png": "[encoded data removed]",
      "text/plain": [
       "<matplotlib.figure.Figure at 0x7fd88f08db00>"
      ]
     },
     "metadata": {
      "needs_background": "light"
     },
     "output_type": "display_data"
    },
    {
     "data": {
      "image/png": "[encoded data removed]",
      "text/plain": [
       "<matplotlib.figure.Figure at 0x7fd88f0ec7b8>"
      ]
     },
     "metadata": {
      "needs_background": "light"
     },
     "output_type": "display_data"
    }
   ],
   "source": [
    "#### \n",
    "initialize_positions(2)\n",
    "initialize_momentas(273)\n",
    "dt = 1/np.power(10, 9)\n",
    "tot_steps = 1000\n",
    "Energy_plot = []\n",
    "Kinetic = []\n",
    "Tot = []\n",
    "for steps in range(tot_steps):\n",
    "    euler_integrate(dt)\n",
    "    Energy_plot.append(potential_curve()[0])\n",
    "    Kinetic.append(potential_curve()[1])\n",
    "    Tot.append(potential_curve()[2])\n",
    "    if (steps % 100==0):\n",
    "        configDraw()"
   ]
  },
  {
   "cell_type": "code",
   "execution_count": 1,
   "metadata": {},
   "outputs": [
    {
     "ename": "NameError",
     "evalue": "name 'plot' is not defined",
     "output_type": "error",
     "traceback": [
      "\u001b[0;31m---------------------------------------------------------------------------\u001b[0m",
      "\u001b[0;31mNameError\u001b[0m                                 Traceback (most recent call last)",
      "\u001b[0;32m<ipython-input-1-8b25e8f65257>\u001b[0m in \u001b[0;36m<module>\u001b[0;34m\u001b[0m\n\u001b[1;32m      1\u001b[0m \u001b[0;31m# plot(Energy_plot, label=\"potential\")\u001b[0m\u001b[0;34m\u001b[0m\u001b[0;34m\u001b[0m\u001b[0;34m\u001b[0m\u001b[0m\n\u001b[0;32m----> 2\u001b[0;31m \u001b[0mplot\u001b[0m\u001b[0;34m(\u001b[0m\u001b[0mKinetic\u001b[0m\u001b[0;34m,\u001b[0m \u001b[0mlabel\u001b[0m\u001b[0;34m=\u001b[0m\u001b[0;34m\"kinetic\"\u001b[0m\u001b[0;34m)\u001b[0m\u001b[0;34m\u001b[0m\u001b[0;34m\u001b[0m\u001b[0m\n\u001b[0m\u001b[1;32m      3\u001b[0m \u001b[0mplot\u001b[0m\u001b[0;34m(\u001b[0m\u001b[0mTot\u001b[0m\u001b[0;34m,\u001b[0m \u001b[0mlabel\u001b[0m\u001b[0;34m=\u001b[0m\u001b[0;34m\"Total\"\u001b[0m\u001b[0;34m)\u001b[0m\u001b[0;34m\u001b[0m\u001b[0;34m\u001b[0m\u001b[0m\n\u001b[1;32m      4\u001b[0m \u001b[0mlegend\u001b[0m\u001b[0;34m(\u001b[0m\u001b[0;34m)\u001b[0m\u001b[0;34m\u001b[0m\u001b[0;34m\u001b[0m\u001b[0m\n",
      "\u001b[0;31mNameError\u001b[0m: name 'plot' is not defined"
     ]
    }
   ],
   "source": [
    "# plot(Energy_plot, label=\"potential\")\n",
    "plot(Kinetic, label=\"kinetic\")\n",
    "plot(Tot, label=\"Total\")\n",
    "legend()"
   ]
  }
 ],
 "metadata": {
  "kernelspec": {
   "display_name": "Python 3",
   "language": "python",
   "name": "python3"
  },
  "language_info": {
   "codemirror_mode": {
    "name": "ipython",
    "version": 3
   },
   "file_extension": ".py",
   "mimetype": "text/x-python",
   "name": "python",
   "nbconvert_exporter": "python",
   "pygments_lexer": "ipython3",
   "version": "3.6.9"
  }
 },
 "nbformat": 4,
 "nbformat_minor": 2
}
